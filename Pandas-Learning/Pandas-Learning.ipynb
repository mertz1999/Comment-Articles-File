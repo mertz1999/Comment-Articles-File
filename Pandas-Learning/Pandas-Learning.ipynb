{
 "cells": [
  {
   "cell_type": "markdown",
   "id": "6e73d973-d52c-4c99-ab71-30ae1a7b7799",
   "metadata": {},
   "source": [
    "# Pandas Learning with Comment"
   ]
  },
  {
   "cell_type": "markdown",
   "id": "23ee1677-efd7-46a7-96c2-49ab5a72e50e",
   "metadata": {},
   "source": [
    "In this Notebook we trying to learn pandas library based on my article in Comment website.\n",
    "##### Autor: Reza Tanakizadeh\n",
    "##### website: https://mr-comment.ir/pandas-learning/\n"
   ]
  },
  {
   "cell_type": "markdown",
   "id": "c2d14ad0-ea6f-44f7-8751-00aa01c31248",
   "metadata": {},
   "source": [
    "## Install and Loading"
   ]
  },
  {
   "cell_type": "code",
   "execution_count": 5,
   "id": "333d9c30-19b9-45f8-8c26-84490d4188fc",
   "metadata": {},
   "outputs": [],
   "source": [
    "# !pip install pandas\n",
    "import pandas as pd"
   ]
  },
  {
   "cell_type": "markdown",
   "id": "ffc98552-207f-4557-b642-bb35b9ba21df",
   "metadata": {},
   "source": [
    "## Define Series and DataFrame"
   ]
  },
  {
   "cell_type": "code",
   "execution_count": 6,
   "id": "96733441-e3b7-4f89-8329-3d965dc2ca9f",
   "metadata": {},
   "outputs": [
    {
     "data": {
      "text/plain": [
       "a    3\n",
       "b   -5\n",
       "c    7\n",
       "d    4\n",
       "dtype: int64"
      ]
     },
     "execution_count": 6,
     "metadata": {},
     "output_type": "execute_result"
    }
   ],
   "source": [
    "S = pd.Series([3, -5, 7, 4], index=['a', 'b', 'c', 'd'])\n",
    "S"
   ]
  },
  {
   "cell_type": "code",
   "execution_count": 23,
   "id": "7492e71b-9437-452c-a9ba-4d076ce4ac57",
   "metadata": {},
   "outputs": [
    {
     "data": {
      "text/html": [
       "<div>\n",
       "<style scoped>\n",
       "    .dataframe tbody tr th:only-of-type {\n",
       "        vertical-align: middle;\n",
       "    }\n",
       "\n",
       "    .dataframe tbody tr th {\n",
       "        vertical-align: top;\n",
       "    }\n",
       "\n",
       "    .dataframe thead th {\n",
       "        text-align: right;\n",
       "    }\n",
       "</style>\n",
       "<table border=\"1\" class=\"dataframe\">\n",
       "  <thead>\n",
       "    <tr style=\"text-align: right;\">\n",
       "      <th></th>\n",
       "      <th>Country</th>\n",
       "      <th>Capital</th>\n",
       "    </tr>\n",
       "  </thead>\n",
       "  <tbody>\n",
       "    <tr>\n",
       "      <th>0</th>\n",
       "      <td>Iran</td>\n",
       "      <td>Tehran</td>\n",
       "    </tr>\n",
       "    <tr>\n",
       "      <th>1</th>\n",
       "      <td>England</td>\n",
       "      <td>London</td>\n",
       "    </tr>\n",
       "    <tr>\n",
       "      <th>2</th>\n",
       "      <td>France</td>\n",
       "      <td>Paris</td>\n",
       "    </tr>\n",
       "  </tbody>\n",
       "</table>\n",
       "</div>"
      ],
      "text/plain": [
       "   Country Capital\n",
       "0     Iran  Tehran\n",
       "1  England  London\n",
       "2   France   Paris"
      ]
     },
     "execution_count": 23,
     "metadata": {},
     "output_type": "execute_result"
    }
   ],
   "source": [
    "df = pd.DataFrame({\n",
    "                     'Country': ['Iran', 'England','France'],\n",
    "                     'Capital': ['Tehran', 'London', 'Paris']\n",
    "                    })\n",
    "df"
   ]
  },
  {
   "cell_type": "markdown",
   "id": "25a803fe-c490-4529-b9cd-9c758e97906e",
   "metadata": {},
   "source": [
    "## Dropping"
   ]
  },
  {
   "cell_type": "code",
   "execution_count": 16,
   "id": "abd90c9e-b907-4aab-bb50-c2ac07fe14d9",
   "metadata": {},
   "outputs": [],
   "source": [
    "col_dropped = df.drop('Country', axis=1)\n",
    "row_dropped = df.drop(2, axis=0)"
   ]
  },
  {
   "cell_type": "code",
   "execution_count": 12,
   "id": "1d59d9ca-0e9b-4cba-9be2-1150e348a6f3",
   "metadata": {},
   "outputs": [
    {
     "data": {
      "text/html": [
       "<div>\n",
       "<style scoped>\n",
       "    .dataframe tbody tr th:only-of-type {\n",
       "        vertical-align: middle;\n",
       "    }\n",
       "\n",
       "    .dataframe tbody tr th {\n",
       "        vertical-align: top;\n",
       "    }\n",
       "\n",
       "    .dataframe thead th {\n",
       "        text-align: right;\n",
       "    }\n",
       "</style>\n",
       "<table border=\"1\" class=\"dataframe\">\n",
       "  <thead>\n",
       "    <tr style=\"text-align: right;\">\n",
       "      <th></th>\n",
       "      <th>Capital</th>\n",
       "    </tr>\n",
       "  </thead>\n",
       "  <tbody>\n",
       "    <tr>\n",
       "      <th>0</th>\n",
       "      <td>Tehran</td>\n",
       "    </tr>\n",
       "    <tr>\n",
       "      <th>1</th>\n",
       "      <td>London</td>\n",
       "    </tr>\n",
       "    <tr>\n",
       "      <th>2</th>\n",
       "      <td>Paris</td>\n",
       "    </tr>\n",
       "  </tbody>\n",
       "</table>\n",
       "</div>"
      ],
      "text/plain": [
       "  Capital\n",
       "0  Tehran\n",
       "1  London\n",
       "2   Paris"
      ]
     },
     "execution_count": 12,
     "metadata": {},
     "output_type": "execute_result"
    }
   ],
   "source": [
    "col_dropped\n"
   ]
  },
  {
   "cell_type": "code",
   "execution_count": 13,
   "id": "b215dda7-a5f7-4b46-8cb0-c129bb4caf5f",
   "metadata": {},
   "outputs": [
    {
     "data": {
      "text/html": [
       "<div>\n",
       "<style scoped>\n",
       "    .dataframe tbody tr th:only-of-type {\n",
       "        vertical-align: middle;\n",
       "    }\n",
       "\n",
       "    .dataframe tbody tr th {\n",
       "        vertical-align: top;\n",
       "    }\n",
       "\n",
       "    .dataframe thead th {\n",
       "        text-align: right;\n",
       "    }\n",
       "</style>\n",
       "<table border=\"1\" class=\"dataframe\">\n",
       "  <thead>\n",
       "    <tr style=\"text-align: right;\">\n",
       "      <th></th>\n",
       "      <th>Capital</th>\n",
       "    </tr>\n",
       "  </thead>\n",
       "  <tbody>\n",
       "    <tr>\n",
       "      <th>0</th>\n",
       "      <td>Tehran</td>\n",
       "    </tr>\n",
       "    <tr>\n",
       "      <th>1</th>\n",
       "      <td>London</td>\n",
       "    </tr>\n",
       "    <tr>\n",
       "      <th>2</th>\n",
       "      <td>Paris</td>\n",
       "    </tr>\n",
       "  </tbody>\n",
       "</table>\n",
       "</div>"
      ],
      "text/plain": [
       "  Capital\n",
       "0  Tehran\n",
       "1  London\n",
       "2   Paris"
      ]
     },
     "execution_count": 13,
     "metadata": {},
     "output_type": "execute_result"
    }
   ],
   "source": [
    "col_dropped"
   ]
  },
  {
   "cell_type": "markdown",
   "id": "4b80f7c7-a844-4764-a771-a246e3f248d3",
   "metadata": {},
   "source": [
    "## Working with CSV files"
   ]
  },
  {
   "cell_type": "code",
   "execution_count": null,
   "id": "5d783a57-8b96-40f8-b874-4327f090d75b",
   "metadata": {},
   "outputs": [],
   "source": [
    "# --- Read from .csv\n",
    "data = pd.read_csv(\"YOUR_FILENAME.csv\")\n",
    "\n",
    "# --- Write to .csv\n",
    "data.to_csv(\"YOUR_FILENAME.csv\")"
   ]
  },
  {
   "cell_type": "markdown",
   "id": "75c0a765-2ce0-44e4-9cc2-3244494fb4b0",
   "metadata": {},
   "source": [
    "## Selecting Method"
   ]
  },
  {
   "cell_type": "code",
   "execution_count": null,
   "id": "ec164d5b-1f98-4b3f-9ff2-430f978d79f3",
   "metadata": {},
   "outputs": [],
   "source": [
    "# --- انتخاب مجموعه‌ای از ردیف‌ها\n",
    "df[2:3]    # انتخاب ردیف شماره ۳ یا ردیف با ایندکس شماره ۲\n",
    "df[1:]   # انتخاب تمام ردیف‌ها از ردیف دوم تا انتها\n",
    "\n",
    "# --- انتخاب یک ستون\n",
    "df['Country']\n",
    "df.Country"
   ]
  },
  {
   "cell_type": "code",
   "execution_count": 27,
   "id": "6b5820e4-20e1-4fdf-b38f-75566773372e",
   "metadata": {},
   "outputs": [
    {
     "data": {
      "text/html": [
       "<div>\n",
       "<style scoped>\n",
       "    .dataframe tbody tr th:only-of-type {\n",
       "        vertical-align: middle;\n",
       "    }\n",
       "\n",
       "    .dataframe tbody tr th {\n",
       "        vertical-align: top;\n",
       "    }\n",
       "\n",
       "    .dataframe thead th {\n",
       "        text-align: right;\n",
       "    }\n",
       "</style>\n",
       "<table border=\"1\" class=\"dataframe\">\n",
       "  <thead>\n",
       "    <tr style=\"text-align: right;\">\n",
       "      <th></th>\n",
       "      <th>Country</th>\n",
       "    </tr>\n",
       "  </thead>\n",
       "  <tbody>\n",
       "    <tr>\n",
       "      <th>0</th>\n",
       "      <td>Iran</td>\n",
       "    </tr>\n",
       "  </tbody>\n",
       "</table>\n",
       "</div>"
      ],
      "text/plain": [
       "  Country\n",
       "0    Iran"
      ]
     },
     "execution_count": 27,
     "metadata": {},
     "output_type": "execute_result"
    }
   ],
   "source": [
    "df.iloc[[0], [0]]         # انتخاب یک عضو با شماره‌ی ردیف و ستون آن "
   ]
  },
  {
   "cell_type": "code",
   "execution_count": 28,
   "id": "02954b23-f9b9-48e9-8d85-048520d36d7b",
   "metadata": {},
   "outputs": [
    {
     "data": {
      "text/html": [
       "<div>\n",
       "<style scoped>\n",
       "    .dataframe tbody tr th:only-of-type {\n",
       "        vertical-align: middle;\n",
       "    }\n",
       "\n",
       "    .dataframe tbody tr th {\n",
       "        vertical-align: top;\n",
       "    }\n",
       "\n",
       "    .dataframe thead th {\n",
       "        text-align: right;\n",
       "    }\n",
       "</style>\n",
       "<table border=\"1\" class=\"dataframe\">\n",
       "  <thead>\n",
       "    <tr style=\"text-align: right;\">\n",
       "      <th></th>\n",
       "      <th>Country</th>\n",
       "      <th>Capital</th>\n",
       "    </tr>\n",
       "  </thead>\n",
       "  <tbody>\n",
       "    <tr>\n",
       "      <th>0</th>\n",
       "      <td>Iran</td>\n",
       "      <td>Tehran</td>\n",
       "    </tr>\n",
       "    <tr>\n",
       "      <th>2</th>\n",
       "      <td>France</td>\n",
       "      <td>Paris</td>\n",
       "    </tr>\n",
       "  </tbody>\n",
       "</table>\n",
       "</div>"
      ],
      "text/plain": [
       "  Country Capital\n",
       "0    Iran  Tehran\n",
       "2  France   Paris"
      ]
     },
     "execution_count": 28,
     "metadata": {},
     "output_type": "execute_result"
    }
   ],
   "source": [
    "df.iloc[[0,2], [0,1]]     # انتخاب داده‌های ردیف اول و ششم در ستون‌های اول و دوم"
   ]
  },
  {
   "cell_type": "code",
   "execution_count": 31,
   "id": "deb2b367-6214-49ed-8de0-38a0ab3f5900",
   "metadata": {},
   "outputs": [
    {
     "data": {
      "text/html": [
       "<div>\n",
       "<style scoped>\n",
       "    .dataframe tbody tr th:only-of-type {\n",
       "        vertical-align: middle;\n",
       "    }\n",
       "\n",
       "    .dataframe tbody tr th {\n",
       "        vertical-align: top;\n",
       "    }\n",
       "\n",
       "    .dataframe thead th {\n",
       "        text-align: right;\n",
       "    }\n",
       "</style>\n",
       "<table border=\"1\" class=\"dataframe\">\n",
       "  <thead>\n",
       "    <tr style=\"text-align: right;\">\n",
       "      <th></th>\n",
       "      <th>Country</th>\n",
       "    </tr>\n",
       "  </thead>\n",
       "  <tbody>\n",
       "    <tr>\n",
       "      <th>0</th>\n",
       "      <td>Iran</td>\n",
       "    </tr>\n",
       "  </tbody>\n",
       "</table>\n",
       "</div>"
      ],
      "text/plain": [
       "  Country\n",
       "0    Iran"
      ]
     },
     "execution_count": 31,
     "metadata": {},
     "output_type": "execute_result"
    }
   ],
   "source": [
    "df.loc[[0], ['Country']]                  # انتخاب یک عضو با نام ردیف و ستون آن "
   ]
  },
  {
   "cell_type": "code",
   "execution_count": 33,
   "id": "46fef43b-e00a-4ef8-ba75-e01c0d610289",
   "metadata": {},
   "outputs": [
    {
     "data": {
      "text/html": [
       "<div>\n",
       "<style scoped>\n",
       "    .dataframe tbody tr th:only-of-type {\n",
       "        vertical-align: middle;\n",
       "    }\n",
       "\n",
       "    .dataframe tbody tr th {\n",
       "        vertical-align: top;\n",
       "    }\n",
       "\n",
       "    .dataframe thead th {\n",
       "        text-align: right;\n",
       "    }\n",
       "</style>\n",
       "<table border=\"1\" class=\"dataframe\">\n",
       "  <thead>\n",
       "    <tr style=\"text-align: right;\">\n",
       "      <th></th>\n",
       "      <th>Country</th>\n",
       "      <th>Capital</th>\n",
       "    </tr>\n",
       "  </thead>\n",
       "  <tbody>\n",
       "    <tr>\n",
       "      <th>0</th>\n",
       "      <td>Iran</td>\n",
       "      <td>Tehran</td>\n",
       "    </tr>\n",
       "    <tr>\n",
       "      <th>2</th>\n",
       "      <td>France</td>\n",
       "      <td>Paris</td>\n",
       "    </tr>\n",
       "  </tbody>\n",
       "</table>\n",
       "</div>"
      ],
      "text/plain": [
       "  Country Capital\n",
       "0    Iran  Tehran\n",
       "2  France   Paris"
      ]
     },
     "execution_count": 33,
     "metadata": {},
     "output_type": "execute_result"
    }
   ],
   "source": [
    "df.loc[[0,2], ['Country','Capital']]     # انتخاب داده‌های ردیف اول و ششم در ستون‌های اول و دوم"
   ]
  },
  {
   "cell_type": "code",
   "execution_count": 34,
   "id": "78137dac-9970-4b5e-8155-218728fb697a",
   "metadata": {},
   "outputs": [
    {
     "data": {
      "text/html": [
       "<div>\n",
       "<style scoped>\n",
       "    .dataframe tbody tr th:only-of-type {\n",
       "        vertical-align: middle;\n",
       "    }\n",
       "\n",
       "    .dataframe tbody tr th {\n",
       "        vertical-align: top;\n",
       "    }\n",
       "\n",
       "    .dataframe thead th {\n",
       "        text-align: right;\n",
       "    }\n",
       "</style>\n",
       "<table border=\"1\" class=\"dataframe\">\n",
       "  <thead>\n",
       "    <tr style=\"text-align: right;\">\n",
       "      <th></th>\n",
       "      <th>Country</th>\n",
       "      <th>Capital</th>\n",
       "    </tr>\n",
       "  </thead>\n",
       "  <tbody>\n",
       "    <tr>\n",
       "      <th>0</th>\n",
       "      <td>Iran</td>\n",
       "      <td>Tehran</td>\n",
       "    </tr>\n",
       "  </tbody>\n",
       "</table>\n",
       "</div>"
      ],
      "text/plain": [
       "  Country Capital\n",
       "0    Iran  Tehran"
      ]
     },
     "execution_count": 34,
     "metadata": {},
     "output_type": "execute_result"
    }
   ],
   "source": [
    "df[df['Capital'] == 'Tehran']"
   ]
  },
  {
   "cell_type": "markdown",
   "id": "74d24654-11c3-4d35-ada0-804588c91f04",
   "metadata": {},
   "source": [
    "## Information"
   ]
  },
  {
   "cell_type": "code",
   "execution_count": 39,
   "id": "95b6e03d-faa1-4a5b-b25a-7b2753274130",
   "metadata": {},
   "outputs": [
    {
     "name": "stdout",
     "output_type": "stream",
     "text": [
      "(3, 2)\n",
      "\n",
      "\n",
      "RangeIndex(start=0, stop=3, step=1)\n",
      "\n",
      "\n",
      "Index(['Country', 'Capital'], dtype='object')\n",
      "\n",
      "\n",
      "<class 'pandas.core.frame.DataFrame'>\n",
      "RangeIndex: 3 entries, 0 to 2\n",
      "Data columns (total 2 columns):\n",
      " #   Column   Non-Null Count  Dtype \n",
      "---  ------   --------------  ----- \n",
      " 0   Country  3 non-null      object\n",
      " 1   Capital  3 non-null      object\n",
      "dtypes: object(2)\n",
      "memory usage: 176.0+ bytes\n",
      "None\n",
      "\n",
      "\n",
      "Country    3\n",
      "Capital    3\n",
      "dtype: int64\n",
      "\n",
      "\n",
      "Country    IranEnglandFrance\n",
      "Capital    TehranLondonParis\n",
      "dtype: object\n",
      "\n",
      "\n",
      "       Country Capital\n",
      "count        3       3\n",
      "unique       3       3\n",
      "top       Iran  Tehran\n",
      "freq         1       1\n"
     ]
    }
   ],
   "source": [
    "print(df.shape)  # ابعاد دیتافریم\n",
    "print(\"\\n\")\n",
    "print(df.index)  # مجموعه تمام ایندکس‌ها\n",
    "print(\"\\n\")\n",
    "print(df.columns)  # مجموعه اسم تمام ستون‌ها\n",
    "print(\"\\n\")\n",
    "print(df.info())  # یکسری اطلاعات ساده از دیتافریم مانند حجم، نوع داده‌ها و غیره\n",
    "print(\"\\n\")\n",
    "print(df.count())  # شمارش تعداد اعضای غیر خالی\n",
    "\n",
    "print(\"\\n\")\n",
    "print(df.sum())  # جمع تمام ستون‌ها\n",
    "# print(df.min() , df.max())  #  محاسبه مقدار مینیمم و ماکزیمم\n",
    "# print(df.idmin() , df.idmax())  # استخراج آدرس مقدار مینیمم و ماکزیمم\n",
    "print(\"\\n\")\n",
    "print(df.describe())  # اطلاعات آماری\n",
    "# print(df.mean())  # مقدار میانگین\n",
    "# print(df.median())  # مقدار میانه\n"
   ]
  },
  {
   "cell_type": "code",
   "execution_count": null,
   "id": "331af3c5-8d30-4db9-97d9-4a0fcbde9de5",
   "metadata": {},
   "outputs": [],
   "source": []
  }
 ],
 "metadata": {
  "kernelspec": {
   "display_name": "Python 3 (ipykernel)",
   "language": "python",
   "name": "python3"
  },
  "language_info": {
   "codemirror_mode": {
    "name": "ipython",
    "version": 3
   },
   "file_extension": ".py",
   "mimetype": "text/x-python",
   "name": "python",
   "nbconvert_exporter": "python",
   "pygments_lexer": "ipython3",
   "version": "3.9.8"
  }
 },
 "nbformat": 4,
 "nbformat_minor": 5
}
